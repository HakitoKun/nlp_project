{
 "cells": [
  {
   "cell_type": "code",
   "execution_count": 20,
   "id": "4cd90195-8434-4fb7-87b4-5ebf78523be2",
   "metadata": {},
   "outputs": [],
   "source": [
    "import pandas as pd"
   ]
  },
  {
   "cell_type": "code",
   "execution_count": 26,
   "id": "9380b965-f82f-41e0-9c76-ac526101d006",
   "metadata": {},
   "outputs": [],
   "source": [
    "df = pd.read_csv(\"out_val_pd.csv\", delimiter=',', quotechar='\"')"
   ]
  },
  {
   "cell_type": "code",
   "execution_count": 27,
   "id": "db08df8f-83c5-4c79-90e5-c90bfe3a03f3",
   "metadata": {},
   "outputs": [
    {
     "data": {
      "text/html": [
       "<div>\n",
       "<style scoped>\n",
       "    .dataframe tbody tr th:only-of-type {\n",
       "        vertical-align: middle;\n",
       "    }\n",
       "\n",
       "    .dataframe tbody tr th {\n",
       "        vertical-align: top;\n",
       "    }\n",
       "\n",
       "    .dataframe thead th {\n",
       "        text-align: right;\n",
       "    }\n",
       "</style>\n",
       "<table border=\"1\" class=\"dataframe\">\n",
       "  <thead>\n",
       "    <tr style=\"text-align: right;\">\n",
       "      <th></th>\n",
       "      <th>text</th>\n",
       "      <th>summary</th>\n",
       "    </tr>\n",
       "  </thead>\n",
       "  <tbody>\n",
       "    <tr>\n",
       "      <th>0</th>\n",
       "      <td>a typical rainfall time series has several pro...</td>\n",
       "      <td>we propose a parsimonious stochastic model fo...</td>\n",
       "    </tr>\n",
       "    <tr>\n",
       "      <th>1</th>\n",
       "      <td>it is well known that in four space - time dim...</td>\n",
       "      <td>we study the generalization of the kerr - new...</td>\n",
       "    </tr>\n",
       "    <tr>\n",
       "      <th>2</th>\n",
       "      <td>the quantized conductance @xmath1 , @xmath2 , ...</td>\n",
       "      <td>short length quantum wires ( quantum contacts...</td>\n",
       "    </tr>\n",
       "    <tr>\n",
       "      <th>3</th>\n",
       "      <td>the central puzzle of the hole - doped cuprate...</td>\n",
       "      <td>recent experiments in the underdoped regime o...</td>\n",
       "    </tr>\n",
       "    <tr>\n",
       "      <th>4</th>\n",
       "      <td>a geometry lies in the foundation of physics ,...</td>\n",
       "      <td>physical geometry studies mutual disposition ...</td>\n",
       "    </tr>\n",
       "    <tr>\n",
       "      <th>...</th>\n",
       "      <td>...</td>\n",
       "      <td>...</td>\n",
       "    </tr>\n",
       "    <tr>\n",
       "      <th>6431</th>\n",
       "      <td>in recent years , there has been much interest...</td>\n",
       "      <td>doublet @xmath0 scattering and the hypertrito...</td>\n",
       "    </tr>\n",
       "    <tr>\n",
       "      <th>6432</th>\n",
       "      <td>in the solidification of liquids , an initial ...</td>\n",
       "      <td>the interface stability against small perturb...</td>\n",
       "    </tr>\n",
       "    <tr>\n",
       "      <th>6433</th>\n",
       "      <td>[ [ low - mass - stars - in - ob - association...</td>\n",
       "      <td>the @xmath0orionis cluster is a young associa...</td>\n",
       "    </tr>\n",
       "    <tr>\n",
       "      <th>6434</th>\n",
       "      <td>boosting is successful for both binary and mul...</td>\n",
       "      <td>this paper presents an improvement to model l...</td>\n",
       "    </tr>\n",
       "    <tr>\n",
       "      <th>6435</th>\n",
       "      <td>invariant set is an important concept in the t...</td>\n",
       "      <td>steplength thresholds for invariance preservi...</td>\n",
       "    </tr>\n",
       "  </tbody>\n",
       "</table>\n",
       "<p>6436 rows × 2 columns</p>\n",
       "</div>"
      ],
      "text/plain": [
       "                                                   text  \\\n",
       "0     a typical rainfall time series has several pro...   \n",
       "1     it is well known that in four space - time dim...   \n",
       "2     the quantized conductance @xmath1 , @xmath2 , ...   \n",
       "3     the central puzzle of the hole - doped cuprate...   \n",
       "4     a geometry lies in the foundation of physics ,...   \n",
       "...                                                 ...   \n",
       "6431  in recent years , there has been much interest...   \n",
       "6432  in the solidification of liquids , an initial ...   \n",
       "6433  [ [ low - mass - stars - in - ob - association...   \n",
       "6434  boosting is successful for both binary and mul...   \n",
       "6435  invariant set is an important concept in the t...   \n",
       "\n",
       "                                                summary  \n",
       "0      we propose a parsimonious stochastic model fo...  \n",
       "1      we study the generalization of the kerr - new...  \n",
       "2      short length quantum wires ( quantum contacts...  \n",
       "3      recent experiments in the underdoped regime o...  \n",
       "4      physical geometry studies mutual disposition ...  \n",
       "...                                                 ...  \n",
       "6431   doublet @xmath0 scattering and the hypertrito...  \n",
       "6432   the interface stability against small perturb...  \n",
       "6433   the @xmath0orionis cluster is a young associa...  \n",
       "6434   this paper presents an improvement to model l...  \n",
       "6435   steplength thresholds for invariance preservi...  \n",
       "\n",
       "[6436 rows x 2 columns]"
      ]
     },
     "execution_count": 27,
     "metadata": {},
     "output_type": "execute_result"
    }
   ],
   "source": [
    "df"
   ]
  },
  {
   "cell_type": "code",
   "execution_count": 23,
   "id": "65342e5e-5a4b-4668-aa77-6b06ef25168d",
   "metadata": {},
   "outputs": [],
   "source": [
    "df = df.dropna()"
   ]
  },
  {
   "cell_type": "code",
   "execution_count": 24,
   "id": "ca845efe-a064-48ab-afd3-735058924422",
   "metadata": {},
   "outputs": [
    {
     "data": {
      "text/html": [
       "<div>\n",
       "<style scoped>\n",
       "    .dataframe tbody tr th:only-of-type {\n",
       "        vertical-align: middle;\n",
       "    }\n",
       "\n",
       "    .dataframe tbody tr th {\n",
       "        vertical-align: top;\n",
       "    }\n",
       "\n",
       "    .dataframe thead th {\n",
       "        text-align: right;\n",
       "    }\n",
       "</style>\n",
       "<table border=\"1\" class=\"dataframe\">\n",
       "  <thead>\n",
       "    <tr style=\"text-align: right;\">\n",
       "      <th></th>\n",
       "      <th>text</th>\n",
       "      <th>summary</th>\n",
       "    </tr>\n",
       "  </thead>\n",
       "  <tbody>\n",
       "    <tr>\n",
       "      <th>0</th>\n",
       "      <td>let us consider a @xmath0-layer multiplex netw...</td>\n",
       "      <td>efficient techniques to navigate networks wit...</td>\n",
       "    </tr>\n",
       "    <tr>\n",
       "      <th>1</th>\n",
       "      <td>in previous papers , an extended theory of ele...</td>\n",
       "      <td>a certain vector - tensor ( vt ) theory is re...</td>\n",
       "    </tr>\n",
       "    <tr>\n",
       "      <th>2</th>\n",
       "      <td>dynamical properties of nonrelativistic quantu...</td>\n",
       "      <td>we have examined the validity of the time - d...</td>\n",
       "    </tr>\n",
       "    <tr>\n",
       "      <th>3</th>\n",
       "      <td>most relaxed galaxy clusters possess a cool - ...</td>\n",
       "      <td>we analyze heating and cooling processes in a...</td>\n",
       "    </tr>\n",
       "    <tr>\n",
       "      <th>4</th>\n",
       "      <td>near the second order phase transition , therm...</td>\n",
       "      <td>we performed @xmath0c - nmr experiment and me...</td>\n",
       "    </tr>\n",
       "    <tr>\n",
       "      <th>...</th>\n",
       "      <td>...</td>\n",
       "      <td>...</td>\n",
       "    </tr>\n",
       "    <tr>\n",
       "      <th>192881</th>\n",
       "      <td>let @xmath1 be a complete discrete valuation f...</td>\n",
       "      <td>we give a refinement of the local class field...</td>\n",
       "    </tr>\n",
       "    <tr>\n",
       "      <th>192882</th>\n",
       "      <td>a direct calculation of hadronic properties fr...</td>\n",
       "      <td>the cp - pacs and jlqcd collaborations have b...</td>\n",
       "    </tr>\n",
       "    <tr>\n",
       "      <th>192883</th>\n",
       "      <td>the presence of supermassive black holes ( smb...</td>\n",
       "      <td>the direct collapse black hole ( dcbh ) model...</td>\n",
       "    </tr>\n",
       "    <tr>\n",
       "      <th>192884</th>\n",
       "      <td>in a sense , ads / cft duality reduces the con...</td>\n",
       "      <td>we develop parallels between the holographic ...</td>\n",
       "    </tr>\n",
       "    <tr>\n",
       "      <th>192885</th>\n",
       "      <td>the theoretical modelling is performed using t...</td>\n",
       "      <td>we investigate the influence of gold thin - f...</td>\n",
       "    </tr>\n",
       "  </tbody>\n",
       "</table>\n",
       "<p>192883 rows × 2 columns</p>\n",
       "</div>"
      ],
      "text/plain": [
       "                                                     text  \\\n",
       "0       let us consider a @xmath0-layer multiplex netw...   \n",
       "1       in previous papers , an extended theory of ele...   \n",
       "2       dynamical properties of nonrelativistic quantu...   \n",
       "3       most relaxed galaxy clusters possess a cool - ...   \n",
       "4       near the second order phase transition , therm...   \n",
       "...                                                   ...   \n",
       "192881  let @xmath1 be a complete discrete valuation f...   \n",
       "192882  a direct calculation of hadronic properties fr...   \n",
       "192883  the presence of supermassive black holes ( smb...   \n",
       "192884  in a sense , ads / cft duality reduces the con...   \n",
       "192885  the theoretical modelling is performed using t...   \n",
       "\n",
       "                                                  summary  \n",
       "0        efficient techniques to navigate networks wit...  \n",
       "1        a certain vector - tensor ( vt ) theory is re...  \n",
       "2        we have examined the validity of the time - d...  \n",
       "3        we analyze heating and cooling processes in a...  \n",
       "4        we performed @xmath0c - nmr experiment and me...  \n",
       "...                                                   ...  \n",
       "192881   we give a refinement of the local class field...  \n",
       "192882   the cp - pacs and jlqcd collaborations have b...  \n",
       "192883   the direct collapse black hole ( dcbh ) model...  \n",
       "192884   we develop parallels between the holographic ...  \n",
       "192885   we investigate the influence of gold thin - f...  \n",
       "\n",
       "[192883 rows x 2 columns]"
      ]
     },
     "execution_count": 24,
     "metadata": {},
     "output_type": "execute_result"
    }
   ],
   "source": [
    "df"
   ]
  },
  {
   "cell_type": "code",
   "execution_count": 25,
   "id": "da15717f-728e-4462-80be-30f9e4f6fa08",
   "metadata": {},
   "outputs": [],
   "source": [
    "df.to_csv(\"out_train_pd.csv\", sep=',', quotechar='\"', index=False)"
   ]
  },
  {
   "cell_type": "code",
   "execution_count": 28,
   "id": "f7216bf5-e3bf-45aa-a9f0-338c25c7851b",
   "metadata": {},
   "outputs": [
    {
     "data": {
      "text/plain": [
       "919.4285714285714"
      ]
     },
     "execution_count": 28,
     "metadata": {},
     "output_type": "execute_result"
    }
   ],
   "source": [
    "6436/7"
   ]
  },
  {
   "cell_type": "code",
   "execution_count": null,
   "id": "0dae06db-01d9-4c0e-ac7b-631624b8dbee",
   "metadata": {},
   "outputs": [],
   "source": []
  }
 ],
 "metadata": {
  "kernelspec": {
   "display_name": "Python 3",
   "language": "python",
   "name": "python3"
  },
  "language_info": {
   "codemirror_mode": {
    "name": "ipython",
    "version": 3
   },
   "file_extension": ".py",
   "mimetype": "text/x-python",
   "name": "python",
   "nbconvert_exporter": "python",
   "pygments_lexer": "ipython3",
   "version": "3.8.10"
  }
 },
 "nbformat": 4,
 "nbformat_minor": 5
}
